{
 "cells": [
  {
   "cell_type": "markdown",
   "id": "d507cb0c",
   "metadata": {},
   "source": [
    "# Analysis of World University Rankings by CUWR\n",
    "\n",
    "## Table of Contents\n",
    "### 1- Import Libraries\n",
    "### 2- Import Data\n",
    "### 3- Data wrangling (dropping columns, pending feedback from CUWR)\n",
    "### 4- Checking for missing data and duplicates"
   ]
  },
  {
   "cell_type": "markdown",
   "id": "cdf7dcf6",
   "metadata": {},
   "source": [
    "# Importing libraries"
   ]
  },
  {
   "cell_type": "code",
   "execution_count": 1,
   "id": "d476d0ef",
   "metadata": {},
   "outputs": [],
   "source": [
    "import pandas as pd\n",
    "import numpy as np\n",
    "import os"
   ]
  },
  {
   "cell_type": "markdown",
   "id": "cb3795f6",
   "metadata": {},
   "source": [
    "# Importing Data"
   ]
  },
  {
   "cell_type": "code",
   "execution_count": 6,
   "id": "c2892eed",
   "metadata": {},
   "outputs": [],
   "source": [
    "df_rankings = pd.read_csv(r'/Users/nayeraibrahim/Documents/CF assignments/Own Project/cwurData 2013-2015.csv', index_col = False)"
   ]
  },
  {
   "cell_type": "code",
   "execution_count": 10,
   "id": "80c86fb3",
   "metadata": {},
   "outputs": [
    {
     "data": {
      "text/plain": [
       "(2100, 14)"
      ]
     },
     "execution_count": 10,
     "metadata": {},
     "output_type": "execute_result"
    }
   ],
   "source": [
    "df_rankings.shape"
   ]
  },
  {
   "cell_type": "code",
   "execution_count": 4,
   "id": "bd34089f",
   "metadata": {},
   "outputs": [
    {
     "data": {
      "text/html": [
       "<div>\n",
       "<style scoped>\n",
       "    .dataframe tbody tr th:only-of-type {\n",
       "        vertical-align: middle;\n",
       "    }\n",
       "\n",
       "    .dataframe tbody tr th {\n",
       "        vertical-align: top;\n",
       "    }\n",
       "\n",
       "    .dataframe thead th {\n",
       "        text-align: right;\n",
       "    }\n",
       "</style>\n",
       "<table border=\"1\" class=\"dataframe\">\n",
       "  <thead>\n",
       "    <tr style=\"text-align: right;\">\n",
       "      <th></th>\n",
       "      <th>world_rank</th>\n",
       "      <th>institution</th>\n",
       "      <th>country</th>\n",
       "      <th>national_rank</th>\n",
       "      <th>quality_of_education</th>\n",
       "      <th>alumni_employment</th>\n",
       "      <th>quality_of_faculty</th>\n",
       "      <th>publications</th>\n",
       "      <th>influence</th>\n",
       "      <th>citations</th>\n",
       "      <th>broad_impact</th>\n",
       "      <th>patents</th>\n",
       "      <th>score</th>\n",
       "      <th>year</th>\n",
       "    </tr>\n",
       "  </thead>\n",
       "  <tbody>\n",
       "    <tr>\n",
       "      <th>0</th>\n",
       "      <td>1</td>\n",
       "      <td>Harvard University</td>\n",
       "      <td>USA</td>\n",
       "      <td>1</td>\n",
       "      <td>1</td>\n",
       "      <td>1</td>\n",
       "      <td>1</td>\n",
       "      <td>1</td>\n",
       "      <td>1</td>\n",
       "      <td>1</td>\n",
       "      <td>NaN</td>\n",
       "      <td>7</td>\n",
       "      <td>100.00</td>\n",
       "      <td>2013</td>\n",
       "    </tr>\n",
       "    <tr>\n",
       "      <th>1</th>\n",
       "      <td>2</td>\n",
       "      <td>Stanford University</td>\n",
       "      <td>USA</td>\n",
       "      <td>2</td>\n",
       "      <td>11</td>\n",
       "      <td>2</td>\n",
       "      <td>4</td>\n",
       "      <td>6</td>\n",
       "      <td>2</td>\n",
       "      <td>2</td>\n",
       "      <td>NaN</td>\n",
       "      <td>11</td>\n",
       "      <td>93.94</td>\n",
       "      <td>2013</td>\n",
       "    </tr>\n",
       "    <tr>\n",
       "      <th>2</th>\n",
       "      <td>3</td>\n",
       "      <td>University of Oxford</td>\n",
       "      <td>United Kingdom</td>\n",
       "      <td>1</td>\n",
       "      <td>7</td>\n",
       "      <td>12</td>\n",
       "      <td>10</td>\n",
       "      <td>11</td>\n",
       "      <td>7</td>\n",
       "      <td>13</td>\n",
       "      <td>NaN</td>\n",
       "      <td>15</td>\n",
       "      <td>92.54</td>\n",
       "      <td>2013</td>\n",
       "    </tr>\n",
       "    <tr>\n",
       "      <th>3</th>\n",
       "      <td>4</td>\n",
       "      <td>Massachusetts Institute of Technology</td>\n",
       "      <td>USA</td>\n",
       "      <td>3</td>\n",
       "      <td>2</td>\n",
       "      <td>16</td>\n",
       "      <td>2</td>\n",
       "      <td>16</td>\n",
       "      <td>3</td>\n",
       "      <td>3</td>\n",
       "      <td>NaN</td>\n",
       "      <td>1</td>\n",
       "      <td>91.45</td>\n",
       "      <td>2013</td>\n",
       "    </tr>\n",
       "    <tr>\n",
       "      <th>4</th>\n",
       "      <td>5</td>\n",
       "      <td>University of Cambridge</td>\n",
       "      <td>United Kingdom</td>\n",
       "      <td>2</td>\n",
       "      <td>3</td>\n",
       "      <td>15</td>\n",
       "      <td>5</td>\n",
       "      <td>9</td>\n",
       "      <td>11</td>\n",
       "      <td>10</td>\n",
       "      <td>NaN</td>\n",
       "      <td>39</td>\n",
       "      <td>90.24</td>\n",
       "      <td>2013</td>\n",
       "    </tr>\n",
       "  </tbody>\n",
       "</table>\n",
       "</div>"
      ],
      "text/plain": [
       "   world_rank                            institution         country  \\\n",
       "0           1                     Harvard University             USA   \n",
       "1           2                    Stanford University             USA   \n",
       "2           3                   University of Oxford  United Kingdom   \n",
       "3           4  Massachusetts Institute of Technology             USA   \n",
       "4           5                University of Cambridge  United Kingdom   \n",
       "\n",
       "   national_rank  quality_of_education  alumni_employment  quality_of_faculty  \\\n",
       "0              1                     1                  1                   1   \n",
       "1              2                    11                  2                   4   \n",
       "2              1                     7                 12                  10   \n",
       "3              3                     2                 16                   2   \n",
       "4              2                     3                 15                   5   \n",
       "\n",
       "   publications  influence  citations  broad_impact  patents   score  year  \n",
       "0             1          1          1           NaN        7  100.00  2013  \n",
       "1             6          2          2           NaN       11   93.94  2013  \n",
       "2            11          7         13           NaN       15   92.54  2013  \n",
       "3            16          3          3           NaN        1   91.45  2013  \n",
       "4             9         11         10           NaN       39   90.24  2013  "
      ]
     },
     "execution_count": 4,
     "metadata": {},
     "output_type": "execute_result"
    }
   ],
   "source": [
    "df_rankings.head()"
   ]
  },
  {
   "cell_type": "code",
   "execution_count": null,
   "id": "634ac847",
   "metadata": {},
   "outputs": [],
   "source": [
    "#Checking data types"
   ]
  },
  {
   "cell_type": "code",
   "execution_count": 8,
   "id": "3608fbce",
   "metadata": {},
   "outputs": [
    {
     "name": "stdout",
     "output_type": "stream",
     "text": [
      "<class 'pandas.core.frame.DataFrame'>\n",
      "RangeIndex: 2100 entries, 0 to 2099\n",
      "Data columns (total 14 columns):\n",
      " #   Column                Non-Null Count  Dtype  \n",
      "---  ------                --------------  -----  \n",
      " 0   world_rank            2100 non-null   int64  \n",
      " 1   institution           2100 non-null   object \n",
      " 2   country               2100 non-null   object \n",
      " 3   national_rank         2100 non-null   int64  \n",
      " 4   quality_of_education  2100 non-null   int64  \n",
      " 5   alumni_employment     2100 non-null   int64  \n",
      " 6   quality_of_faculty    2100 non-null   int64  \n",
      " 7   publications          2100 non-null   int64  \n",
      " 8   influence             2100 non-null   int64  \n",
      " 9   citations             2100 non-null   int64  \n",
      " 10  broad_impact          2000 non-null   float64\n",
      " 11  patents               2100 non-null   int64  \n",
      " 12  score                 2100 non-null   float64\n",
      " 13  year                  2100 non-null   int64  \n",
      "dtypes: float64(2), int64(10), object(2)\n",
      "memory usage: 229.8+ KB\n"
     ]
    }
   ],
   "source": [
    "df_rankings.info()"
   ]
  },
  {
   "cell_type": "code",
   "execution_count": null,
   "id": "3293dd1f",
   "metadata": {},
   "outputs": [],
   "source": [
    "## Data types seem to be all correct."
   ]
  },
  {
   "cell_type": "code",
   "execution_count": 12,
   "id": "2242b79c",
   "metadata": {},
   "outputs": [
    {
     "data": {
      "text/html": [
       "<div>\n",
       "<style scoped>\n",
       "    .dataframe tbody tr th:only-of-type {\n",
       "        vertical-align: middle;\n",
       "    }\n",
       "\n",
       "    .dataframe tbody tr th {\n",
       "        vertical-align: top;\n",
       "    }\n",
       "\n",
       "    .dataframe thead th {\n",
       "        text-align: right;\n",
       "    }\n",
       "</style>\n",
       "<table border=\"1\" class=\"dataframe\">\n",
       "  <thead>\n",
       "    <tr style=\"text-align: right;\">\n",
       "      <th></th>\n",
       "      <th>world_rank</th>\n",
       "      <th>national_rank</th>\n",
       "      <th>quality_of_education</th>\n",
       "      <th>alumni_employment</th>\n",
       "      <th>quality_of_faculty</th>\n",
       "      <th>publications</th>\n",
       "      <th>influence</th>\n",
       "      <th>citations</th>\n",
       "      <th>broad_impact</th>\n",
       "      <th>patents</th>\n",
       "      <th>score</th>\n",
       "      <th>year</th>\n",
       "    </tr>\n",
       "  </thead>\n",
       "  <tbody>\n",
       "    <tr>\n",
       "      <th>count</th>\n",
       "      <td>2100.000000</td>\n",
       "      <td>2100.000000</td>\n",
       "      <td>2100.000000</td>\n",
       "      <td>2100.000000</td>\n",
       "      <td>2100.000000</td>\n",
       "      <td>2100.000000</td>\n",
       "      <td>2100.000000</td>\n",
       "      <td>2100.000000</td>\n",
       "      <td>2000.000000</td>\n",
       "      <td>2100.000000</td>\n",
       "      <td>2100.000000</td>\n",
       "      <td>2100.000000</td>\n",
       "    </tr>\n",
       "    <tr>\n",
       "      <th>mean</th>\n",
       "      <td>479.071429</td>\n",
       "      <td>41.332381</td>\n",
       "      <td>285.037619</td>\n",
       "      <td>370.532381</td>\n",
       "      <td>184.695714</td>\n",
       "      <td>479.189048</td>\n",
       "      <td>479.079048</td>\n",
       "      <td>430.512381</td>\n",
       "      <td>496.699500</td>\n",
       "      <td>450.950952</td>\n",
       "      <td>47.458276</td>\n",
       "      <td>2014.428571</td>\n",
       "    </tr>\n",
       "    <tr>\n",
       "      <th>std</th>\n",
       "      <td>297.708846</td>\n",
       "      <td>52.572960</td>\n",
       "      <td>115.527401</td>\n",
       "      <td>180.380104</td>\n",
       "      <td>59.151200</td>\n",
       "      <td>297.374038</td>\n",
       "      <td>296.914598</td>\n",
       "      <td>258.331048</td>\n",
       "      <td>286.919755</td>\n",
       "      <td>267.886055</td>\n",
       "      <td>7.283028</td>\n",
       "      <td>0.583351</td>\n",
       "    </tr>\n",
       "    <tr>\n",
       "      <th>min</th>\n",
       "      <td>1.000000</td>\n",
       "      <td>1.000000</td>\n",
       "      <td>1.000000</td>\n",
       "      <td>1.000000</td>\n",
       "      <td>1.000000</td>\n",
       "      <td>1.000000</td>\n",
       "      <td>1.000000</td>\n",
       "      <td>1.000000</td>\n",
       "      <td>1.000000</td>\n",
       "      <td>1.000000</td>\n",
       "      <td>44.020000</td>\n",
       "      <td>2013.000000</td>\n",
       "    </tr>\n",
       "    <tr>\n",
       "      <th>25%</th>\n",
       "      <td>213.000000</td>\n",
       "      <td>6.000000</td>\n",
       "      <td>213.000000</td>\n",
       "      <td>213.000000</td>\n",
       "      <td>210.000000</td>\n",
       "      <td>213.000000</td>\n",
       "      <td>213.000000</td>\n",
       "      <td>200.000000</td>\n",
       "      <td>250.500000</td>\n",
       "      <td>204.000000</td>\n",
       "      <td>44.450000</td>\n",
       "      <td>2014.000000</td>\n",
       "    </tr>\n",
       "    <tr>\n",
       "      <th>50%</th>\n",
       "      <td>475.500000</td>\n",
       "      <td>22.000000</td>\n",
       "      <td>355.000000</td>\n",
       "      <td>475.500000</td>\n",
       "      <td>210.000000</td>\n",
       "      <td>475.000000</td>\n",
       "      <td>475.500000</td>\n",
       "      <td>428.000000</td>\n",
       "      <td>496.000000</td>\n",
       "      <td>470.500000</td>\n",
       "      <td>45.020000</td>\n",
       "      <td>2014.000000</td>\n",
       "    </tr>\n",
       "    <tr>\n",
       "      <th>75%</th>\n",
       "      <td>738.000000</td>\n",
       "      <td>50.000000</td>\n",
       "      <td>367.000000</td>\n",
       "      <td>478.000000</td>\n",
       "      <td>218.000000</td>\n",
       "      <td>738.000000</td>\n",
       "      <td>738.000000</td>\n",
       "      <td>645.000000</td>\n",
       "      <td>741.000000</td>\n",
       "      <td>737.000000</td>\n",
       "      <td>47.160000</td>\n",
       "      <td>2015.000000</td>\n",
       "    </tr>\n",
       "    <tr>\n",
       "      <th>max</th>\n",
       "      <td>1000.000000</td>\n",
       "      <td>229.000000</td>\n",
       "      <td>367.000000</td>\n",
       "      <td>567.000000</td>\n",
       "      <td>218.000000</td>\n",
       "      <td>1000.000000</td>\n",
       "      <td>991.000000</td>\n",
       "      <td>812.000000</td>\n",
       "      <td>1000.000000</td>\n",
       "      <td>871.000000</td>\n",
       "      <td>100.000000</td>\n",
       "      <td>2015.000000</td>\n",
       "    </tr>\n",
       "  </tbody>\n",
       "</table>\n",
       "</div>"
      ],
      "text/plain": [
       "        world_rank  national_rank  quality_of_education  alumni_employment  \\\n",
       "count  2100.000000    2100.000000           2100.000000        2100.000000   \n",
       "mean    479.071429      41.332381            285.037619         370.532381   \n",
       "std     297.708846      52.572960            115.527401         180.380104   \n",
       "min       1.000000       1.000000              1.000000           1.000000   \n",
       "25%     213.000000       6.000000            213.000000         213.000000   \n",
       "50%     475.500000      22.000000            355.000000         475.500000   \n",
       "75%     738.000000      50.000000            367.000000         478.000000   \n",
       "max    1000.000000     229.000000            367.000000         567.000000   \n",
       "\n",
       "       quality_of_faculty  publications    influence    citations  \\\n",
       "count         2100.000000   2100.000000  2100.000000  2100.000000   \n",
       "mean           184.695714    479.189048   479.079048   430.512381   \n",
       "std             59.151200    297.374038   296.914598   258.331048   \n",
       "min              1.000000      1.000000     1.000000     1.000000   \n",
       "25%            210.000000    213.000000   213.000000   200.000000   \n",
       "50%            210.000000    475.000000   475.500000   428.000000   \n",
       "75%            218.000000    738.000000   738.000000   645.000000   \n",
       "max            218.000000   1000.000000   991.000000   812.000000   \n",
       "\n",
       "       broad_impact      patents        score         year  \n",
       "count   2000.000000  2100.000000  2100.000000  2100.000000  \n",
       "mean     496.699500   450.950952    47.458276  2014.428571  \n",
       "std      286.919755   267.886055     7.283028     0.583351  \n",
       "min        1.000000     1.000000    44.020000  2013.000000  \n",
       "25%      250.500000   204.000000    44.450000  2014.000000  \n",
       "50%      496.000000   470.500000    45.020000  2014.000000  \n",
       "75%      741.000000   737.000000    47.160000  2015.000000  \n",
       "max     1000.000000   871.000000   100.000000  2015.000000  "
      ]
     },
     "execution_count": 12,
     "metadata": {},
     "output_type": "execute_result"
    }
   ],
   "source": [
    "# Data description\n",
    "df_rankings.describe()"
   ]
  },
  {
   "cell_type": "code",
   "execution_count": null,
   "id": "8688165c",
   "metadata": {},
   "outputs": [],
   "source": [
    "## It is clear that broad_impact column is missing a 100 values"
   ]
  },
  {
   "cell_type": "code",
   "execution_count": 17,
   "id": "6da13651",
   "metadata": {},
   "outputs": [
    {
     "data": {
      "text/plain": [
       "100"
      ]
     },
     "execution_count": 17,
     "metadata": {},
     "output_type": "execute_result"
    }
   ],
   "source": [
    "# Counting rows for each ranking year\n",
    "df_rankings['year'].value_counts()[2013]\n"
   ]
  },
  {
   "cell_type": "code",
   "execution_count": 18,
   "id": "6ade77f7",
   "metadata": {},
   "outputs": [
    {
     "data": {
      "text/plain": [
       "1000"
      ]
     },
     "execution_count": 18,
     "metadata": {},
     "output_type": "execute_result"
    }
   ],
   "source": [
    "df_rankings['year'].value_counts()[2014]\n"
   ]
  },
  {
   "cell_type": "code",
   "execution_count": 19,
   "id": "8a1c98a1",
   "metadata": {},
   "outputs": [
    {
     "data": {
      "text/plain": [
       "1000"
      ]
     },
     "execution_count": 19,
     "metadata": {},
     "output_type": "execute_result"
    }
   ],
   "source": [
    "df_rankings['year'].value_counts()[2015]\n"
   ]
  },
  {
   "cell_type": "markdown",
   "id": "b7195065",
   "metadata": {},
   "source": [
    "# Data wrangling (dropping columns)\n"
   ]
  },
  {
   "cell_type": "markdown",
   "id": "e7578d1c",
   "metadata": {},
   "source": [
    "# Checking for missing data and duplicates"
   ]
  },
  {
   "cell_type": "code",
   "execution_count": 13,
   "id": "6bbf8eb0",
   "metadata": {},
   "outputs": [
    {
     "data": {
      "text/plain": [
       "world_rank                0\n",
       "institution               0\n",
       "country                   0\n",
       "national_rank             0\n",
       "quality_of_education      0\n",
       "alumni_employment         0\n",
       "quality_of_faculty        0\n",
       "publications              0\n",
       "influence                 0\n",
       "citations                 0\n",
       "broad_impact            100\n",
       "patents                   0\n",
       "score                     0\n",
       "year                      0\n",
       "dtype: int64"
      ]
     },
     "execution_count": 13,
     "metadata": {},
     "output_type": "execute_result"
    }
   ],
   "source": [
    "#checking for missing data\n",
    "df_rankings.isnull().sum()"
   ]
  },
  {
   "cell_type": "code",
   "execution_count": 14,
   "id": "4da93c5f",
   "metadata": {},
   "outputs": [],
   "source": [
    "#checking for duplicate data\n",
    "df_rankings_dups = df_rankings[df_rankings.duplicated()]"
   ]
  },
  {
   "cell_type": "code",
   "execution_count": 20,
   "id": "f793fb0d",
   "metadata": {},
   "outputs": [
    {
     "data": {
      "text/html": [
       "<div>\n",
       "<style scoped>\n",
       "    .dataframe tbody tr th:only-of-type {\n",
       "        vertical-align: middle;\n",
       "    }\n",
       "\n",
       "    .dataframe tbody tr th {\n",
       "        vertical-align: top;\n",
       "    }\n",
       "\n",
       "    .dataframe thead th {\n",
       "        text-align: right;\n",
       "    }\n",
       "</style>\n",
       "<table border=\"1\" class=\"dataframe\">\n",
       "  <thead>\n",
       "    <tr style=\"text-align: right;\">\n",
       "      <th></th>\n",
       "      <th>world_rank</th>\n",
       "      <th>institution</th>\n",
       "      <th>country</th>\n",
       "      <th>national_rank</th>\n",
       "      <th>quality_of_education</th>\n",
       "      <th>alumni_employment</th>\n",
       "      <th>quality_of_faculty</th>\n",
       "      <th>publications</th>\n",
       "      <th>influence</th>\n",
       "      <th>citations</th>\n",
       "      <th>broad_impact</th>\n",
       "      <th>patents</th>\n",
       "      <th>score</th>\n",
       "      <th>year</th>\n",
       "    </tr>\n",
       "  </thead>\n",
       "  <tbody>\n",
       "  </tbody>\n",
       "</table>\n",
       "</div>"
      ],
      "text/plain": [
       "Empty DataFrame\n",
       "Columns: [world_rank, institution, country, national_rank, quality_of_education, alumni_employment, quality_of_faculty, publications, influence, citations, broad_impact, patents, score, year]\n",
       "Index: []"
      ]
     },
     "execution_count": 20,
     "metadata": {},
     "output_type": "execute_result"
    }
   ],
   "source": [
    "df_rankings_dups.head()"
   ]
  },
  {
   "cell_type": "code",
   "execution_count": null,
   "id": "7ade9a05",
   "metadata": {},
   "outputs": [],
   "source": [
    "## No duplicate values were found"
   ]
  },
  {
   "cell_type": "code",
   "execution_count": 22,
   "id": "7ae6310d",
   "metadata": {},
   "outputs": [
    {
     "data": {
      "text/html": [
       "<div>\n",
       "<style scoped>\n",
       "    .dataframe tbody tr th:only-of-type {\n",
       "        vertical-align: middle;\n",
       "    }\n",
       "\n",
       "    .dataframe tbody tr th {\n",
       "        vertical-align: top;\n",
       "    }\n",
       "\n",
       "    .dataframe thead th {\n",
       "        text-align: right;\n",
       "    }\n",
       "</style>\n",
       "<table border=\"1\" class=\"dataframe\">\n",
       "  <thead>\n",
       "    <tr style=\"text-align: right;\">\n",
       "      <th></th>\n",
       "      <th>world_rank</th>\n",
       "      <th>institution</th>\n",
       "      <th>country</th>\n",
       "      <th>national_rank</th>\n",
       "      <th>quality_of_education</th>\n",
       "      <th>alumni_employment</th>\n",
       "      <th>quality_of_faculty</th>\n",
       "      <th>publications</th>\n",
       "      <th>influence</th>\n",
       "      <th>citations</th>\n",
       "      <th>score</th>\n",
       "      <th>year</th>\n",
       "    </tr>\n",
       "  </thead>\n",
       "  <tbody>\n",
       "    <tr>\n",
       "      <th>0</th>\n",
       "      <td>1</td>\n",
       "      <td>Harvard University</td>\n",
       "      <td>USA</td>\n",
       "      <td>1</td>\n",
       "      <td>1</td>\n",
       "      <td>1</td>\n",
       "      <td>1</td>\n",
       "      <td>1</td>\n",
       "      <td>1</td>\n",
       "      <td>1</td>\n",
       "      <td>100.00</td>\n",
       "      <td>2013</td>\n",
       "    </tr>\n",
       "    <tr>\n",
       "      <th>1</th>\n",
       "      <td>2</td>\n",
       "      <td>Stanford University</td>\n",
       "      <td>USA</td>\n",
       "      <td>2</td>\n",
       "      <td>11</td>\n",
       "      <td>2</td>\n",
       "      <td>4</td>\n",
       "      <td>6</td>\n",
       "      <td>2</td>\n",
       "      <td>2</td>\n",
       "      <td>93.94</td>\n",
       "      <td>2013</td>\n",
       "    </tr>\n",
       "    <tr>\n",
       "      <th>2</th>\n",
       "      <td>3</td>\n",
       "      <td>University of Oxford</td>\n",
       "      <td>United Kingdom</td>\n",
       "      <td>1</td>\n",
       "      <td>7</td>\n",
       "      <td>12</td>\n",
       "      <td>10</td>\n",
       "      <td>11</td>\n",
       "      <td>7</td>\n",
       "      <td>13</td>\n",
       "      <td>92.54</td>\n",
       "      <td>2013</td>\n",
       "    </tr>\n",
       "    <tr>\n",
       "      <th>3</th>\n",
       "      <td>4</td>\n",
       "      <td>Massachusetts Institute of Technology</td>\n",
       "      <td>USA</td>\n",
       "      <td>3</td>\n",
       "      <td>2</td>\n",
       "      <td>16</td>\n",
       "      <td>2</td>\n",
       "      <td>16</td>\n",
       "      <td>3</td>\n",
       "      <td>3</td>\n",
       "      <td>91.45</td>\n",
       "      <td>2013</td>\n",
       "    </tr>\n",
       "    <tr>\n",
       "      <th>4</th>\n",
       "      <td>5</td>\n",
       "      <td>University of Cambridge</td>\n",
       "      <td>United Kingdom</td>\n",
       "      <td>2</td>\n",
       "      <td>3</td>\n",
       "      <td>15</td>\n",
       "      <td>5</td>\n",
       "      <td>9</td>\n",
       "      <td>11</td>\n",
       "      <td>10</td>\n",
       "      <td>90.24</td>\n",
       "      <td>2013</td>\n",
       "    </tr>\n",
       "  </tbody>\n",
       "</table>\n",
       "</div>"
      ],
      "text/plain": [
       "   world_rank                            institution         country  \\\n",
       "0           1                     Harvard University             USA   \n",
       "1           2                    Stanford University             USA   \n",
       "2           3                   University of Oxford  United Kingdom   \n",
       "3           4  Massachusetts Institute of Technology             USA   \n",
       "4           5                University of Cambridge  United Kingdom   \n",
       "\n",
       "   national_rank  quality_of_education  alumni_employment  quality_of_faculty  \\\n",
       "0              1                     1                  1                   1   \n",
       "1              2                    11                  2                   4   \n",
       "2              1                     7                 12                  10   \n",
       "3              3                     2                 16                   2   \n",
       "4              2                     3                 15                   5   \n",
       "\n",
       "   publications  influence  citations   score  year  \n",
       "0             1          1          1  100.00  2013  \n",
       "1             6          2          2   93.94  2013  \n",
       "2            11          7         13   92.54  2013  \n",
       "3            16          3          3   91.45  2013  \n",
       "4             9         11         10   90.24  2013  "
      ]
     },
     "execution_count": 22,
     "metadata": {},
     "output_type": "execute_result"
    }
   ],
   "source": [
    "#Columns \"patents\" and \"broad_impact\" will be dropped\n",
    "df_rankings_drpcol = df_rankings.drop(columns = ['patents','broad_impact'])\n",
    "df_rankings_drpcol.head()"
   ]
  },
  {
   "cell_type": "code",
   "execution_count": 25,
   "id": "9a9e4751",
   "metadata": {},
   "outputs": [],
   "source": [
    "#Export data\n",
    "df_rankings_drpcol.to_csv(r'/Users/nayeraibrahim/Documents/CF assignments/Own Project/rankings_columnsdropped.csv')"
   ]
  },
  {
   "cell_type": "code",
   "execution_count": null,
   "id": "4620fccf",
   "metadata": {},
   "outputs": [],
   "source": []
  }
 ],
 "metadata": {
  "kernelspec": {
   "display_name": "Python 3 (ipykernel)",
   "language": "python",
   "name": "python3"
  },
  "language_info": {
   "codemirror_mode": {
    "name": "ipython",
    "version": 3
   },
   "file_extension": ".py",
   "mimetype": "text/x-python",
   "name": "python",
   "nbconvert_exporter": "python",
   "pygments_lexer": "ipython3",
   "version": "3.9.13"
  }
 },
 "nbformat": 4,
 "nbformat_minor": 5
}
